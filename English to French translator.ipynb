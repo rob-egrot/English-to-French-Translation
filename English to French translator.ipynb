{
 "cells": [
  {
   "cell_type": "code",
   "execution_count": 1,
   "id": "ad83839a",
   "metadata": {},
   "outputs": [
    {
     "name": "stdout",
     "output_type": "stream",
     "text": [
      "Num GPUs Available:  1\n"
     ]
    }
   ],
   "source": [
    "import tensorflow as tf\n",
    "import tensorflow_hub as hub\n",
    "\n",
    "print(\"Num GPUs Available: \", len(tf.config.list_physical_devices('GPU')))"
   ]
  },
  {
   "cell_type": "markdown",
   "id": "17b6322c",
   "metadata": {},
   "source": [
    "### Import manythings.org Anki data\n",
    "English/French data obtained from http://www.manythings.org/anki/\n",
    "\n",
    "Specifically: http://www.manythings.org/anki/fra-eng.zip"
   ]
  },
  {
   "cell_type": "code",
   "execution_count": 2,
   "id": "74e092bd",
   "metadata": {},
   "outputs": [],
   "source": [
    "NUM_EXAMPLES = 200000\n",
    "data_fra = []\n",
    "with open('fra.txt', 'r', encoding='utf8') as f:\n",
    "    for line in f.readlines():\n",
    "        if len(data_fra) < NUM_EXAMPLES:\n",
    "            data_fra.append(line)\n",
    "        else:\n",
    "            break"
   ]
  },
  {
   "cell_type": "code",
   "execution_count": 3,
   "id": "7e5f2db9",
   "metadata": {},
   "outputs": [
    {
     "name": "stdout",
     "output_type": "stream",
     "text": [
      "No one is unbeatable.\tPersonne n'est imbattable.\tCC-BY 2.0 (France) Attribution: tatoeba.org #2091140 (CK) & #2101888 (sacredceltic)\n",
      "\n"
     ]
    }
   ],
   "source": [
    "import numpy as np\n",
    "i = np.random.randint(len(data_fra))\n",
    "print(data_fra[i])"
   ]
  },
  {
   "cell_type": "code",
   "execution_count": 4,
   "id": "3622ff34",
   "metadata": {},
   "outputs": [
    {
     "name": "stdout",
     "output_type": "stream",
     "text": [
      "(190206, 3)\n",
      "(190206, 2)\n"
     ]
    }
   ],
   "source": [
    "# check the structure\n",
    "split_fra = np.array([s.split('\\t') for s in data_fra])\n",
    "print(np.array(split_fra).shape)\n",
    "\n",
    "split_fra = split_fra[:,:-1]\n",
    "print(np.array(split_fra).shape)"
   ]
  },
  {
   "cell_type": "code",
   "execution_count": 5,
   "id": "4cee94ab",
   "metadata": {},
   "outputs": [
    {
     "name": "stdout",
     "output_type": "stream",
     "text": [
      "['Go.' 'Go.' 'Go.']\n",
      "['Va !' 'Marche.' 'Bouge !']\n"
     ]
    }
   ],
   "source": [
    "eng_fra = split_fra[:,0]\n",
    "print(eng_fra[0:3])\n",
    "fra_fra = split_fra[:,1]\n",
    "print(fra_fra[0:3])"
   ]
  },
  {
   "cell_type": "markdown",
   "id": "2795da97",
   "metadata": {},
   "source": [
    "### Import other Anki data\n",
    "* https://ankiweb.net/shared/info/3249357849 - Intermediate French\n",
    "* https://ankiweb.net/shared/info/468622242  - 5000 most common french words\n",
    "\n",
    "These decks were downloaded from the links listed, then exported to .txt files by the Anki program. \n"
   ]
  },
  {
   "cell_type": "code",
   "execution_count": 6,
   "id": "bb5d567e",
   "metadata": {},
   "outputs": [],
   "source": [
    "\n",
    "\n",
    "NUM_EXAMPLES = 200000\n",
    "data_int = []\n",
    "with open('intermediate french.txt', 'r', encoding='utf8') as f:\n",
    "    counter = 1\n",
    "    for line in f.readlines():\n",
    "        if len(data_int) < NUM_EXAMPLES:\n",
    "            if counter % 2 == 0:\n",
    "                data_int.append(line)\n",
    "            counter += 1\n",
    "        else:\n",
    "            break"
   ]
  },
  {
   "cell_type": "code",
   "execution_count": 7,
   "id": "776441b2",
   "metadata": {},
   "outputs": [
    {
     "name": "stdout",
     "output_type": "stream",
     "text": [
      "[['Voluntary worker' 'Le bénévole\\n']\n",
      " ['a guess' 'Une devinette\\n']\n",
      " ['élu' 'elected\\n']]\n"
     ]
    }
   ],
   "source": [
    "# check the structure\n",
    "split_int = np.array([s.split('\\t') for s in data_int])\n",
    "print(split_int[0:3])"
   ]
  },
  {
   "cell_type": "code",
   "execution_count": 8,
   "id": "ee5d0f82",
   "metadata": {},
   "outputs": [
    {
     "name": "stdout",
     "output_type": "stream",
     "text": [
      "['Voluntary worker' 'a guess' 'élu']\n",
      "['Le bénévole\\n' 'Une devinette\\n' 'elected\\n'\n",
      " 'se remettre de la soiree\\n' 'aménager\\n']\n"
     ]
    }
   ],
   "source": [
    "eng_int = split_int[:,0]\n",
    "print(eng_int[0:3])\n",
    "fra_int = split_int[:,1]\n",
    "print(fra_int[0:5])"
   ]
  },
  {
   "cell_type": "code",
   "execution_count": 9,
   "id": "e4d6462e",
   "metadata": {},
   "outputs": [],
   "source": [
    "\n",
    "\n",
    "NUM_EXAMPLES = 200000\n",
    "data_5000 = []\n",
    "with open('5000 Most Common French Words.txt', 'r', encoding='utf8') as f:\n",
    "    for line in f.readlines():\n",
    "        if len(data_5000) < NUM_EXAMPLES:\n",
    "            data_5000.append(line)\n",
    "        else:\n",
    "            break"
   ]
  },
  {
   "cell_type": "code",
   "execution_count": 10,
   "id": "0b2263de",
   "metadata": {},
   "outputs": [
    {
     "name": "stdout",
     "output_type": "stream",
     "text": [
      "everything you dreamed about is available in town\n"
     ]
    }
   ],
   "source": [
    "# Sentences are stored in at positions 4 and 5 in each row\n",
    "split_5000 = np.array([s.split('\\t') for s in data_5000])\n",
    "print(split_5000[2][5])"
   ]
  },
  {
   "cell_type": "code",
   "execution_count": 11,
   "id": "76622997",
   "metadata": {},
   "outputs": [
    {
     "name": "stdout",
     "output_type": "stream",
     "text": [
      "['raise your hand one time' 'here, you are a public personality'\n",
      " 'everything you dreamed about is available in town'\n",
      " 'our city has a sense of community'\n",
      " 'you should go to bed, you look wiped out']\n",
      "['lève la main une fois' 'ici, vous avez une personnalité publique'\n",
      " 'on a tout ce dont tu rêvais en ville'\n",
      " 'notre ville a le sens de la communauté'\n",
      " '\"tu devrais aller te coucher, tu as l\\'air vanné\"']\n"
     ]
    }
   ],
   "source": [
    "eng_5000 = split_5000[:,5]\n",
    "print(eng_5000[0:5])\n",
    "fra_5000 = split_5000[:,4]\n",
    "print(fra_5000[0:5])"
   ]
  },
  {
   "cell_type": "markdown",
   "id": "72beb760",
   "metadata": {},
   "source": [
    "### Preprocess data\n",
    "We currently have data from 4 sources, divided into English and french sentences.\n",
    "* eng_fra and fra_fra (I realize this naming is a little confusing)\n",
    "* eng_int and fra_int\n",
    "* eng_23000 and fra_23000\n",
    "* eng_5000 and fra_5000"
   ]
  },
  {
   "cell_type": "code",
   "execution_count": 12,
   "id": "3344670a",
   "metadata": {},
   "outputs": [
    {
     "name": "stdout",
     "output_type": "stream",
     "text": [
      "(195708,)\n",
      "(195708,)\n"
     ]
    }
   ],
   "source": [
    "eng_com = np.concatenate((eng_fra, eng_int, eng_5000)) \n",
    "fra_com = np.concatenate((fra_fra, fra_int, fra_5000))\n",
    "print(eng_com.shape)\n",
    "print(fra_com.shape)"
   ]
  },
  {
   "cell_type": "code",
   "execution_count": 13,
   "id": "a668ce57",
   "metadata": {},
   "outputs": [
    {
     "name": "stdout",
     "output_type": "stream",
     "text": [
      "['Go.' 'Go.' 'Go.']\n",
      "['Va !' 'Marche.' 'Bouge !']\n",
      "...\n",
      "['every American should also be scandalized'\n",
      " 'a drug is more or less controlled'\n",
      " '\"I\\'m here to take a poll, for a poll\"']\n",
      "['chaque Américain devrait aussi être scandalisé'\n",
      " 'une drogue est plus ou moins réglementée'\n",
      " 'je viens sonder, pour une sondation']\n"
     ]
    }
   ],
   "source": [
    "print(eng_com[:3])\n",
    "print(fra_com[:3])\n",
    "print('...')\n",
    "print(eng_com[-3:])\n",
    "print(fra_com[-3:])"
   ]
  },
  {
   "cell_type": "code",
   "execution_count": 14,
   "id": "f17e0126",
   "metadata": {},
   "outputs": [],
   "source": [
    "import unicodedata\n",
    "import re\n",
    "\n",
    "def unicode_to_ascii(s):\n",
    "    return ''.join(c for c in unicodedata.normalize('NFD', s) if unicodedata.category(c) != 'Mn')\n",
    "\n",
    "def preprocess_sentence(sentence):\n",
    "    sentence = sentence.lower().strip()    \n",
    "    sentence = unicode_to_ascii(sentence)\n",
    "    sentence = re.sub(r\"([?.!,])\", r\" \\1 \", sentence)\n",
    "    sentence = re.sub(r\"[^a-z?.!,']+\", \" \", sentence)\n",
    "    sentence = re.sub(r'[\" \"]+', \" \", sentence)\n",
    "    \n",
    "    return sentence.strip()"
   ]
  },
  {
   "cell_type": "code",
   "execution_count": 15,
   "id": "d833119d",
   "metadata": {},
   "outputs": [],
   "source": [
    "eng = np.array([preprocess_sentence(s) for s in eng_com])\n",
    "fra = np.array([preprocess_sentence(s) for s in fra_com])\n",
    "\n",
    "eng_before_tokens = eng # this will be used when testing later\n",
    "fra_before_tokens = fra # this will be used when testing later\n",
    "\n",
    "eng = np.array([\"<start> \" + s + \" <end>\" for s in eng])\n",
    "fra = np.array([\"<start> \" + s + \" <end>\" for s in fra])\n",
    "\n",
    "\n",
    "\n"
   ]
  },
  {
   "cell_type": "code",
   "execution_count": 16,
   "id": "0b2c766f",
   "metadata": {},
   "outputs": [],
   "source": [
    "fra_lengths = np.array([len(s.split()) for s in fra])\n",
    "mask = fra_lengths <= 60\n",
    "eng = eng[mask]\n",
    "fra = fra[mask]"
   ]
  },
  {
   "cell_type": "code",
   "execution_count": 17,
   "id": "66cb258d",
   "metadata": {},
   "outputs": [
    {
     "name": "stdout",
     "output_type": "stream",
     "text": [
      "['<start> go . <end>' '<start> go . <end>' '<start> go . <end>']\n",
      "['<start> va ! <end>' '<start> marche . <end>' '<start> bouge ! <end>']\n",
      "...\n",
      "['<start> every american should also be scandalized <end>'\n",
      " '<start> a drug is more or less controlled <end>'\n",
      " \"<start> i'm here to take a poll , for a poll <end>\"]\n",
      "['<start> chaque americain devrait aussi etre scandalise <end>'\n",
      " '<start> une drogue est plus ou moins reglementee <end>'\n",
      " '<start> je viens sonder , pour une sondation <end>']\n"
     ]
    }
   ],
   "source": [
    "print(eng[:3])\n",
    "print(fra[:3])\n",
    "print('...')\n",
    "print(eng[-3:])\n",
    "print(fra[-3:])"
   ]
  },
  {
   "cell_type": "code",
   "execution_count": 18,
   "id": "4c97e536",
   "metadata": {},
   "outputs": [
    {
     "name": "stdout",
     "output_type": "stream",
     "text": [
      "29015\n"
     ]
    }
   ],
   "source": [
    "toker_fra = tf.keras.preprocessing.text.Tokenizer(filters= '')\n",
    "toker_fra.fit_on_texts(fra)\n",
    "fra_tokens = toker_fra.texts_to_sequences(fra)\n",
    "\n",
    "num_fra_tokens = len(toker_fra.word_index) + 1\n",
    "\n",
    "print(num_fra_tokens)\n"
   ]
  },
  {
   "cell_type": "code",
   "execution_count": 19,
   "id": "04917d50",
   "metadata": {},
   "outputs": [
    {
     "name": "stdout",
     "output_type": "stream",
     "text": [
      "16950\n"
     ]
    }
   ],
   "source": [
    "toker_eng = tf.keras.preprocessing.text.Tokenizer(filters= '')\n",
    "toker_eng.fit_on_texts(eng)\n",
    "eng_tokens = toker_eng.texts_to_sequences(eng)\n",
    "\n",
    "num_eng_tokens = len(toker_eng.word_index) + 1\n",
    "\n",
    "print(num_eng_tokens)"
   ]
  },
  {
   "cell_type": "code",
   "execution_count": 20,
   "id": "73353188",
   "metadata": {},
   "outputs": [
    {
     "name": "stdout",
     "output_type": "stream",
     "text": [
      "English phrase:  <start> i betrayed you . <end>\n",
      "English token sequence:  [1, 4, 1635, 5, 3, 2]\n",
      "French phrase:  <start> je vous ai trahi . <end>\n",
      "French token sequence:  [1, 4, 9, 105, 2928, 3, 2] \n",
      "\n",
      "English phrase:  <start> he tried to attract her attention . <end>\n",
      "English token sequence:  [1, 15, 335, 6, 5282, 63, 793, 3, 2]\n",
      "French phrase:  <start> il a cherche a attirer son attention . <end>\n",
      "French token sequence:  [1, 15, 6, 796, 6, 5699, 58, 477, 3, 2] \n",
      "\n",
      "English phrase:  <start> if i had enough money , i'd buy this . <end>\n",
      "English token sequence:  [1, 70, 4, 64, 200, 118, 21, 109, 207, 17, 3, 2]\n",
      "French phrase:  <start> si j'avais assez d'argent , je l'acheterais . <end>\n",
      "French token sequence:  [1, 48, 273, 183, 237, 19, 4, 6752, 3, 2] \n",
      "\n"
     ]
    }
   ],
   "source": [
    "indices = np.random.randint(0, len(fra), 3)\n",
    "for i in indices:\n",
    "    print(\"English phrase: \", eng[i])\n",
    "    print(\"English token sequence: \", eng_tokens[i])\n",
    "    print(\"French phrase: \", fra[i])\n",
    "    print(\"French token sequence: \", fra_tokens[i], '\\n')"
   ]
  },
  {
   "cell_type": "code",
   "execution_count": 21,
   "id": "df8f8682",
   "metadata": {},
   "outputs": [
    {
     "name": "stdout",
     "output_type": "stream",
     "text": [
      "Length of padded English sequences:  54\n",
      "Length (adjusted) of padded French sequences:  58\n"
     ]
    }
   ],
   "source": [
    "padded_fra_tokens = np.array(tf.keras.preprocessing.sequence.pad_sequences(fra_tokens, padding = 'post'))\n",
    "padded_eng_tokens = np.array(tf.keras.preprocessing.sequence.pad_sequences(eng_tokens, padding = 'post'))\n",
    "\n",
    "\n",
    "fra_input_length = len(padded_fra_tokens[0]) - 1 # -1 because french inputs get shortened by one in the training loop\n",
    "eng_input_length = len(padded_eng_tokens[0])\n",
    "\n",
    "print(\"Length of padded English sequences: \", eng_input_length)\n",
    "print(\"Length (adjusted) of padded French sequences: \", fra_input_length)"
   ]
  },
  {
   "cell_type": "code",
   "execution_count": 22,
   "id": "65c46b1a",
   "metadata": {},
   "outputs": [
    {
     "name": "stdout",
     "output_type": "stream",
     "text": [
      "<start> it may be impossible to get a completely error free corpus due to the nature of this kind of collaborative effort . however , if we encourage members to contribute sentences in their own languages rather than experiment in languages they are learning , we might be able to minimize errors . <end>\n",
      "<start> il est peut etre impossible d'obtenir un corpus completement denue de fautes , etant donnee la nature de ce type d'entreprise collaborative . cependant , si nous encourageons les membres a produire des phrases dans leurs propres langues plutot que d'experimenter dans les langues qu'ils apprennent , nous pourrions etre en mesure de reduire les erreurs . <end>\n"
     ]
    }
   ],
   "source": [
    "eng_lengths = [len(s) for s in eng_tokens]\n",
    "eng_index = np.argmax(eng_lengths)\n",
    "print(eng[eng_index])\n",
    "print(fra[eng_index])"
   ]
  },
  {
   "cell_type": "code",
   "execution_count": 25,
   "id": "4b8c43d6",
   "metadata": {},
   "outputs": [
    {
     "name": "stdout",
     "output_type": "stream",
     "text": [
      "181273\n",
      "9541\n",
      "4893\n"
     ]
    }
   ],
   "source": [
    "from sklearn.model_selection import train_test_split\n",
    "\n",
    "X, X_test, y, y_test = train_test_split(padded_eng_tokens, padded_fra_tokens, test_size = 0.025)\n",
    "X_train, X_val, y_train, y_val = train_test_split(X, y, test_size = 0.05)\n",
    "\n",
    "print(len(X_train))\n",
    "print(len(X_val))\n",
    "print(len(X_test))\n",
    "\n",
    "\n",
    "training = tf.data.Dataset.from_tensor_slices((X_train,y_train))\n",
    "validation = tf.data.Dataset.from_tensor_slices((X_val,y_val))"
   ]
  },
  {
   "cell_type": "code",
   "execution_count": 26,
   "id": "f85c509a",
   "metadata": {},
   "outputs": [
    {
     "name": "stdout",
     "output_type": "stream",
     "text": [
      "(TensorSpec(shape=(None, 54), dtype=tf.int32, name=None), TensorSpec(shape=(None, 59), dtype=tf.int32, name=None))\n",
      "(TensorSpec(shape=(None, 54), dtype=tf.int32, name=None), TensorSpec(shape=(None, 59), dtype=tf.int32, name=None))\n"
     ]
    }
   ],
   "source": [
    "batch_size = 32\n",
    "training = training.batch(batch_size)\n",
    "validation = validation.batch(batch_size)\n",
    "\n",
    "\n",
    "\n",
    "print(training.element_spec)\n",
    "print(validation.element_spec)\n"
   ]
  },
  {
   "cell_type": "markdown",
   "id": "f093db4f",
   "metadata": {},
   "source": [
    "### The translators\n",
    "We will train 3 different machines. All 3 share the same basic design:\n",
    "* English sentences and French sentences are seperately passed into different embedding layers.\n",
    "* The outputs of the English embedding layer (which are sequences of embedded word tokens) are passed through 3 recurrent layers.\n",
    "* The important output of this is the recorded states (or state) coming out of the last layer.\n",
    "* The output of the French embedding layer is then passed through 3 recurrent layers, where the first is also given the states output by the 3 emebedding layers used on the English sentence.\n",
    "* The output of the final French recurrent layer is then passed through a dense layer.\n",
    "* The final output is is then a sequence of sequences, where the outer sequence corresponds to a sequence of French words, and the inner sequences are supposed to correspond to (logit) probabilities of individual French words."
   ]
  },
  {
   "cell_type": "markdown",
   "id": "977fd0b8",
   "metadata": {},
   "source": [
    "#### Machine T1\n",
    "* Recurrent layers are LSTM layers.\n",
    "* Each French LSTM layer is given the final hidden and cell states output by the final English LSTM layer."
   ]
  },
  {
   "cell_type": "code",
   "execution_count": 27,
   "id": "26d04e08",
   "metadata": {},
   "outputs": [],
   "source": [
    "from tensorflow.keras.layers import Embedding, Dense, LSTM, Input, GRU\n",
    "\n",
    "\n",
    "embedding_dim = 24\n",
    "\n",
    "def translator_1():\n",
    "    eng_inputs = Input(shape=(eng_input_length))\n",
    "    e = Embedding(input_dim = num_eng_tokens, output_dim = embedding_dim, mask_zero = True)(eng_inputs)\n",
    "    e, state_h, state_c = LSTM(512, return_state = True, return_sequences = True)(e)\n",
    "    e, state_h, state_c = LSTM(512, return_state = True, return_sequences = True)(e, initial_state = [state_h, state_c])\n",
    "    e, state_h, state_c = LSTM(512, return_state = True)(e, initial_state = [state_h, state_c])\n",
    "    \n",
    "    fra_inputs = Input(shape = (fra_input_length,), batch_size = None)\n",
    "    f = Embedding(input_dim = num_fra_tokens, output_dim = embedding_dim, mask_zero = True)(fra_inputs)\n",
    "    f_seq = LSTM(512, return_sequences = True, return_state = False)(f, initial_state = [state_h, state_c])\n",
    "    f_seq = LSTM(512, return_sequences = True, return_state = False)(f_seq, initial_state = [state_h, state_c])\n",
    "    f_seq = LSTM(512, return_sequences = True, return_state = False)(f_seq, initial_state = [state_h, state_c])\n",
    "    output = Dense(num_fra_tokens, activation = None)(f_seq)\n",
    "    model = tf.keras.Model(inputs = [eng_inputs, fra_inputs], outputs = output)\n",
    "    \n",
    "    return model"
   ]
  },
  {
   "cell_type": "code",
   "execution_count": 28,
   "id": "3e7f3af4",
   "metadata": {},
   "outputs": [
    {
     "name": "stdout",
     "output_type": "stream",
     "text": [
      "Model: \"model\"\n",
      "__________________________________________________________________________________________________\n",
      "Layer (type)                    Output Shape         Param #     Connected to                     \n",
      "==================================================================================================\n",
      "input_1 (InputLayer)            [(None, 54)]         0                                            \n",
      "__________________________________________________________________________________________________\n",
      "embedding (Embedding)           (None, 54, 24)       406800      input_1[0][0]                    \n",
      "__________________________________________________________________________________________________\n",
      "lstm (LSTM)                     [(None, 54, 512), (N 1099776     embedding[0][0]                  \n",
      "__________________________________________________________________________________________________\n",
      "input_2 (InputLayer)            [(None, 58)]         0                                            \n",
      "__________________________________________________________________________________________________\n",
      "lstm_1 (LSTM)                   [(None, 54, 512), (N 2099200     lstm[0][0]                       \n",
      "                                                                 lstm[0][1]                       \n",
      "                                                                 lstm[0][2]                       \n",
      "__________________________________________________________________________________________________\n",
      "embedding_1 (Embedding)         (None, 58, 24)       696360      input_2[0][0]                    \n",
      "__________________________________________________________________________________________________\n",
      "lstm_2 (LSTM)                   [(None, 512), (None, 2099200     lstm_1[0][0]                     \n",
      "                                                                 lstm_1[0][1]                     \n",
      "                                                                 lstm_1[0][2]                     \n",
      "__________________________________________________________________________________________________\n",
      "lstm_3 (LSTM)                   (None, 58, 512)      1099776     embedding_1[0][0]                \n",
      "                                                                 lstm_2[0][1]                     \n",
      "                                                                 lstm_2[0][2]                     \n",
      "__________________________________________________________________________________________________\n",
      "lstm_4 (LSTM)                   (None, 58, 512)      2099200     lstm_3[0][0]                     \n",
      "                                                                 lstm_2[0][1]                     \n",
      "                                                                 lstm_2[0][2]                     \n",
      "__________________________________________________________________________________________________\n",
      "lstm_5 (LSTM)                   (None, 58, 512)      2099200     lstm_4[0][0]                     \n",
      "                                                                 lstm_2[0][1]                     \n",
      "                                                                 lstm_2[0][2]                     \n",
      "__________________________________________________________________________________________________\n",
      "dense (Dense)                   (None, 58, 29015)    14884695    lstm_5[0][0]                     \n",
      "==================================================================================================\n",
      "Total params: 26,584,207\n",
      "Trainable params: 26,584,207\n",
      "Non-trainable params: 0\n",
      "__________________________________________________________________________________________________\n",
      "None\n"
     ]
    }
   ],
   "source": [
    "T_1 = translator_1()\n",
    "print(T_1.summary())"
   ]
  },
  {
   "cell_type": "markdown",
   "id": "498a3c24",
   "metadata": {},
   "source": [
    "#### Machine T2\n",
    "* Like T1, except the 1st French Embedding layer passes its hidden and cell states to the 2nd, and the 2nd then passes its hidden and cell states to the 3rd. "
   ]
  },
  {
   "cell_type": "code",
   "execution_count": 29,
   "id": "beca920b",
   "metadata": {},
   "outputs": [],
   "source": [
    "def translator_2():\n",
    "    eng_inputs = Input(shape=(eng_input_length))\n",
    "    e = Embedding(input_dim = num_eng_tokens, output_dim = embedding_dim, mask_zero = True)(eng_inputs)\n",
    "    e, state_h, state_c = LSTM(512, return_state = True, return_sequences = True)(e)\n",
    "    e, state_h, state_c = LSTM(512, return_state = True, return_sequences = True)(e, initial_state = [state_h, state_c])\n",
    "    e, state_h, state_c = LSTM(512, return_state = True)(e, initial_state = [state_h, state_c])\n",
    "    \n",
    "    fra_inputs = Input(shape = (fra_input_length,), batch_size = None)\n",
    "    f = Embedding(input_dim = num_fra_tokens, output_dim = embedding_dim, mask_zero = True)(fra_inputs)\n",
    "    f_seq, state_h, state_c = LSTM(512, return_sequences = True, return_state = True)(f, initial_state = [state_h, state_c])\n",
    "    f_seq, state_h, state_c = LSTM(512, return_sequences = True, return_state = True)(f_seq, initial_state = [state_h, state_c])\n",
    "    f_seq, state_h, state_c = LSTM(512, return_sequences = True, return_state = True)(f_seq, initial_state = [state_h, state_c])\n",
    "    output = Dense(num_fra_tokens, activation = None)(f_seq)\n",
    "    model = tf.keras.Model(inputs = [eng_inputs, fra_inputs], outputs = output)\n",
    "    \n",
    "    return model"
   ]
  },
  {
   "cell_type": "code",
   "execution_count": 30,
   "id": "155a6243",
   "metadata": {},
   "outputs": [
    {
     "name": "stdout",
     "output_type": "stream",
     "text": [
      "Model: \"model_1\"\n",
      "__________________________________________________________________________________________________\n",
      "Layer (type)                    Output Shape         Param #     Connected to                     \n",
      "==================================================================================================\n",
      "input_3 (InputLayer)            [(None, 54)]         0                                            \n",
      "__________________________________________________________________________________________________\n",
      "embedding_2 (Embedding)         (None, 54, 24)       406800      input_3[0][0]                    \n",
      "__________________________________________________________________________________________________\n",
      "lstm_6 (LSTM)                   [(None, 54, 512), (N 1099776     embedding_2[0][0]                \n",
      "__________________________________________________________________________________________________\n",
      "input_4 (InputLayer)            [(None, 58)]         0                                            \n",
      "__________________________________________________________________________________________________\n",
      "lstm_7 (LSTM)                   [(None, 54, 512), (N 2099200     lstm_6[0][0]                     \n",
      "                                                                 lstm_6[0][1]                     \n",
      "                                                                 lstm_6[0][2]                     \n",
      "__________________________________________________________________________________________________\n",
      "embedding_3 (Embedding)         (None, 58, 24)       696360      input_4[0][0]                    \n",
      "__________________________________________________________________________________________________\n",
      "lstm_8 (LSTM)                   [(None, 512), (None, 2099200     lstm_7[0][0]                     \n",
      "                                                                 lstm_7[0][1]                     \n",
      "                                                                 lstm_7[0][2]                     \n",
      "__________________________________________________________________________________________________\n",
      "lstm_9 (LSTM)                   [(None, 58, 512), (N 1099776     embedding_3[0][0]                \n",
      "                                                                 lstm_8[0][1]                     \n",
      "                                                                 lstm_8[0][2]                     \n",
      "__________________________________________________________________________________________________\n",
      "lstm_10 (LSTM)                  [(None, 58, 512), (N 2099200     lstm_9[0][0]                     \n",
      "                                                                 lstm_9[0][1]                     \n",
      "                                                                 lstm_9[0][2]                     \n",
      "__________________________________________________________________________________________________\n",
      "lstm_11 (LSTM)                  [(None, 58, 512), (N 2099200     lstm_10[0][0]                    \n",
      "                                                                 lstm_10[0][1]                    \n",
      "                                                                 lstm_10[0][2]                    \n",
      "__________________________________________________________________________________________________\n",
      "dense_1 (Dense)                 (None, 58, 29015)    14884695    lstm_11[0][0]                    \n",
      "==================================================================================================\n",
      "Total params: 26,584,207\n",
      "Trainable params: 26,584,207\n",
      "Non-trainable params: 0\n",
      "__________________________________________________________________________________________________\n",
      "None\n"
     ]
    }
   ],
   "source": [
    "T_2 = translator_2()\n",
    "print(T_2.summary())"
   ]
  },
  {
   "cell_type": "markdown",
   "id": "2054e64e",
   "metadata": {},
   "source": [
    "#### Machine T3\n",
    "* Like T1 except using GRU layers. \n",
    "* A consequence is that each recurrent layer only returns a single state, not both hidden and cell states."
   ]
  },
  {
   "cell_type": "code",
   "execution_count": 31,
   "id": "21289564",
   "metadata": {},
   "outputs": [],
   "source": [
    "def translator_3():\n",
    "    eng_inputs = Input(shape=(eng_input_length))\n",
    "    e = Embedding(input_dim = num_eng_tokens, output_dim = embedding_dim, mask_zero = True)(eng_inputs)\n",
    "    e, state = GRU(512, return_state = True, return_sequences = True)(e)\n",
    "    e, state = GRU(512, return_state = True, return_sequences = True)(e, initial_state = [state])\n",
    "    e, state = GRU(512, return_state = True)(e, initial_state = [state])\n",
    "    \n",
    "    fra_inputs = Input(shape = (fra_input_length,), batch_size = None)\n",
    "    f = Embedding(input_dim = num_fra_tokens, output_dim = embedding_dim, mask_zero = True)(fra_inputs)\n",
    "    f_seq = GRU(512, return_sequences = True, return_state = False)(f, initial_state = [state])\n",
    "    f_seq = GRU(512, return_sequences = True, return_state = False)(f_seq, initial_state = [state])\n",
    "    f_seq = GRU(512, return_sequences = True, return_state = False)(f_seq, initial_state = [state])\n",
    "    output = Dense(num_fra_tokens, activation = None)(f_seq)\n",
    "    model = tf.keras.Model(inputs = [eng_inputs, fra_inputs], outputs = output)\n",
    "    \n",
    "    return model"
   ]
  },
  {
   "cell_type": "code",
   "execution_count": 32,
   "id": "91baba3e",
   "metadata": {},
   "outputs": [
    {
     "name": "stdout",
     "output_type": "stream",
     "text": [
      "Model: \"model_2\"\n",
      "__________________________________________________________________________________________________\n",
      "Layer (type)                    Output Shape         Param #     Connected to                     \n",
      "==================================================================================================\n",
      "input_5 (InputLayer)            [(None, 54)]         0                                            \n",
      "__________________________________________________________________________________________________\n",
      "embedding_4 (Embedding)         (None, 54, 24)       406800      input_5[0][0]                    \n",
      "__________________________________________________________________________________________________\n",
      "gru (GRU)                       [(None, 54, 512), (N 826368      embedding_4[0][0]                \n",
      "__________________________________________________________________________________________________\n",
      "input_6 (InputLayer)            [(None, 58)]         0                                            \n",
      "__________________________________________________________________________________________________\n",
      "gru_1 (GRU)                     [(None, 54, 512), (N 1575936     gru[0][0]                        \n",
      "                                                                 gru[0][1]                        \n",
      "__________________________________________________________________________________________________\n",
      "embedding_5 (Embedding)         (None, 58, 24)       696360      input_6[0][0]                    \n",
      "__________________________________________________________________________________________________\n",
      "gru_2 (GRU)                     [(None, 512), (None, 1575936     gru_1[0][0]                      \n",
      "                                                                 gru_1[0][1]                      \n",
      "__________________________________________________________________________________________________\n",
      "gru_3 (GRU)                     (None, 58, 512)      826368      embedding_5[0][0]                \n",
      "                                                                 gru_2[0][1]                      \n",
      "__________________________________________________________________________________________________\n",
      "gru_4 (GRU)                     (None, 58, 512)      1575936     gru_3[0][0]                      \n",
      "                                                                 gru_2[0][1]                      \n",
      "__________________________________________________________________________________________________\n",
      "gru_5 (GRU)                     (None, 58, 512)      1575936     gru_4[0][0]                      \n",
      "                                                                 gru_2[0][1]                      \n",
      "__________________________________________________________________________________________________\n",
      "dense_2 (Dense)                 (None, 58, 29015)    14884695    gru_5[0][0]                      \n",
      "==================================================================================================\n",
      "Total params: 23,944,335\n",
      "Trainable params: 23,944,335\n",
      "Non-trainable params: 0\n",
      "__________________________________________________________________________________________________\n",
      "None\n"
     ]
    }
   ],
   "source": [
    "T_3 = translator_3()\n",
    "print(T_3.summary())"
   ]
  },
  {
   "cell_type": "code",
   "execution_count": 33,
   "id": "d770f6d1",
   "metadata": {},
   "outputs": [],
   "source": [
    "losser = tf.keras.losses.SparseCategoricalCrossentropy(from_logits=True)\n",
    "\n",
    "@tf.function\n",
    "def grad(model, eng_in, fra_in, fra_out):\n",
    "    with tf.GradientTape() as tape:\n",
    "        output = model([eng_in, fra_in])\n",
    "        loss = losser(fra_out,output)\n",
    "    return loss, tape.gradient(loss, model.trainable_variables)"
   ]
  },
  {
   "cell_type": "code",
   "execution_count": 34,
   "id": "b362235e",
   "metadata": {},
   "outputs": [],
   "source": [
    "# get the numerical token for the <end> token\n",
    "import json \n",
    "end_index = json.loads(toker_fra.get_config()['word_index']).get('<end>')\n",
    "\n",
    "\n",
    "def format_fra_in_out(x):\n",
    "    return tf.convert_to_tensor(np.where(x[:,:-1]==end_index, 0, x[:,:-1]), dtype = 'int32') , x[:,1:]"
   ]
  },
  {
   "cell_type": "code",
   "execution_count": 35,
   "id": "dcb8ca3f",
   "metadata": {},
   "outputs": [],
   "source": [
    "import time\n",
    "\n",
    "opt = tf.keras.optimizers.Adam(learning_rate=0.0003)\n",
    "\n",
    "\n",
    "def train_translator(model, num_epochs):\n",
    "    start_time = time.time()\n",
    "    val_loss_results = []\n",
    "    train_loss_results = []\n",
    "    for epoch in range(num_epochs):\n",
    "        train_loss_avg = tf.keras.metrics.Mean()\n",
    "        val_loss_avg = tf.keras.metrics.Mean()\n",
    "        for x, y in training.shuffle(buffer_size = 10000):\n",
    "            #print(\"epoch {}, new batch started\".format(epoch))\n",
    "            fra_in, fra_out = format_fra_in_out(y)\n",
    "            loss, grads = grad(model, x, fra_in, fra_out)\n",
    "            opt.apply_gradients(zip(grads, model.trainable_variables))\n",
    "            train_loss_avg(loss)\n",
    "\n",
    "        for x, y in validation:\n",
    "            fra_in, fra_out = format_fra_in_out(y)\n",
    "            loss, grads = grad(model, x, fra_in, fra_out)\n",
    "            val_loss_avg(loss)\n",
    "\n",
    "        val_loss_results.append(val_loss_avg.result())\n",
    "        train_loss_results.append(train_loss_avg.result())\n",
    "        print(\"Time at epoch {} :{:.3f}\".format(epoch, time.time() - start_time))\n",
    "        print(\"Val loss: {:.3f}\".format(val_loss_avg.result()))\n",
    "\n",
    "    print(\"Duration :{:.3f}\".format(time.time() - start_time))\n",
    "    return model, train_loss_results, val_loss_results"
   ]
  },
  {
   "cell_type": "markdown",
   "id": "8c67f4cb",
   "metadata": {},
   "source": [
    "We'll train our machines for 10 epochs. This took a few hours on my hardware (Nvidia GTX 1060 6GB). Rather than training, pretrained weights can be loaded a few cells down (provided you have the corresponding files)."
   ]
  },
  {
   "cell_type": "code",
   "execution_count": 36,
   "id": "d44eebcc",
   "metadata": {},
   "outputs": [
    {
     "name": "stdout",
     "output_type": "stream",
     "text": [
      "Time at epoch 0 :903.223\n",
      "Val loss: 6.611\n",
      "Time at epoch 1 :1778.990\n",
      "Val loss: 3.915\n",
      "Time at epoch 2 :2651.727\n",
      "Val loss: 1.572\n",
      "Time at epoch 3 :3527.075\n",
      "Val loss: 0.593\n",
      "Time at epoch 4 :4411.180\n",
      "Val loss: 0.395\n",
      "Time at epoch 5 :5287.660\n",
      "Val loss: 0.338\n",
      "Time at epoch 6 :6167.932\n",
      "Val loss: 0.312\n",
      "Time at epoch 7 :7041.293\n",
      "Val loss: 0.297\n",
      "Time at epoch 8 :7916.117\n",
      "Val loss: 0.287\n",
      "Time at epoch 9 :8790.601\n",
      "Val loss: 0.279\n",
      "Duration :8790.601\n"
     ]
    }
   ],
   "source": [
    "T_1, train_loss_results_1, val_loss_results_1 = train_translator(T_1, 10)"
   ]
  },
  {
   "cell_type": "code",
   "execution_count": 37,
   "id": "f9c8aa8d",
   "metadata": {},
   "outputs": [
    {
     "name": "stdout",
     "output_type": "stream",
     "text": [
      "Time at epoch 0 :899.381\n",
      "Val loss: 5.928\n",
      "Time at epoch 1 :1779.973\n",
      "Val loss: 3.175\n",
      "Time at epoch 2 :2655.477\n",
      "Val loss: 1.012\n",
      "Time at epoch 3 :3532.321\n",
      "Val loss: 0.302\n",
      "Time at epoch 4 :4405.051\n",
      "Val loss: 0.160\n",
      "Time at epoch 5 :5278.802\n",
      "Val loss: 0.116\n",
      "Time at epoch 6 :6154.760\n",
      "Val loss: 0.097\n",
      "Time at epoch 7 :7029.896\n",
      "Val loss: 0.087\n",
      "Time at epoch 8 :7900.216\n",
      "Val loss: 0.080\n",
      "Time at epoch 9 :8773.949\n",
      "Val loss: 0.073\n",
      "Duration :8773.949\n"
     ]
    }
   ],
   "source": [
    "T_2, train_loss_results_2, val_loss_results_2 = train_translator(T_2, 10)"
   ]
  },
  {
   "cell_type": "code",
   "execution_count": 38,
   "id": "f74023af",
   "metadata": {},
   "outputs": [
    {
     "name": "stdout",
     "output_type": "stream",
     "text": [
      "Time at epoch 0 :858.969\n",
      "Val loss: 6.113\n",
      "Time at epoch 1 :1696.004\n",
      "Val loss: 3.421\n",
      "Time at epoch 2 :2536.342\n",
      "Val loss: 1.272\n",
      "Time at epoch 3 :3373.557\n",
      "Val loss: 0.550\n",
      "Time at epoch 4 :20225.366\n",
      "Val loss: 0.396\n",
      "Time at epoch 5 :21046.988\n",
      "Val loss: 0.347\n",
      "Time at epoch 6 :21874.000\n",
      "Val loss: 0.321\n",
      "Time at epoch 7 :22687.138\n",
      "Val loss: 0.306\n",
      "Time at epoch 8 :23503.649\n",
      "Val loss: 0.295\n",
      "Time at epoch 9 :24318.705\n",
      "Val loss: 0.289\n",
      "Duration :24318.706\n"
     ]
    }
   ],
   "source": [
    "T_3, train_loss_results_3, val_loss_results_3 = train_translator(T_3, 10)"
   ]
  },
  {
   "cell_type": "code",
   "execution_count": 39,
   "id": "1c80a65e",
   "metadata": {},
   "outputs": [],
   "source": [
    "import matplotlib.pyplot as plt\n",
    "%matplotlib inline\n",
    "\n",
    "def plot_losses(train_loss_results, val_loss_results, name = ''):\n",
    "    plt.style.use('ggplot')\n",
    "\n",
    "    epochs = range(0, len(train_loss_results))\n",
    "\n",
    "    plt.figure(figsize=(14,5))\n",
    "    plt.plot(epochs, val_loss_results, marker='.', label='Validation loss')\n",
    "    plt.plot(epochs, train_loss_results, marker='.', label='Training loss')\n",
    "    plt.title('Training and validation loss {}'.format(name))\n",
    "    plt.xlabel('Epoch')\n",
    "    plt.ylabel('Loss')\n",
    "    plt.legend(loc='upper right')\n",
    "    #plt.ylim(0, 8);"
   ]
  },
  {
   "cell_type": "code",
   "execution_count": 40,
   "id": "798cc508",
   "metadata": {},
   "outputs": [
    {
     "data": {
      "image/png": "[encoded data removed]",
      "text/plain": [
       "<Figure size 1008x360 with 1 Axes>"
      ]
     },
     "metadata": {},
     "output_type": "display_data"
    }
   ],
   "source": [
    "plot_losses(train_loss_results_1, val_loss_results_1, 'T1')"
   ]
  },
  {
   "cell_type": "code",
   "execution_count": 41,
   "id": "3ca50307",
   "metadata": {},
   "outputs": [
    {
     "data": {
      "image/png": "[encoded data removed]",
      "text/plain": [
       "<Figure size 1008x360 with 1 Axes>"
      ]
     },
     "metadata": {},
     "output_type": "display_data"
    }
   ],
   "source": [
    "plot_losses(train_loss_results_2, val_loss_results_2, 'T2')"
   ]
  },
  {
   "cell_type": "code",
   "execution_count": 42,
   "id": "e1bbf4f5",
   "metadata": {},
   "outputs": [
    {
     "data": {
      "image/png": "[encoded data removed]",
      "text/plain": [
       "<Figure size 1008x360 with 1 Axes>"
      ]
     },
     "metadata": {},
     "output_type": "display_data"
    }
   ],
   "source": [
    "plot_losses(train_loss_results_3, val_loss_results_3, 'T3')"
   ]
  },
  {
   "cell_type": "markdown",
   "id": "b65aba91",
   "metadata": {},
   "source": [
    "### Saving weights"
   ]
  },
  {
   "cell_type": "code",
   "execution_count": 43,
   "id": "df47bbcb",
   "metadata": {},
   "outputs": [],
   "source": [
    "T_1.save_weights('saved_weights/T1_weights')\n",
    "T_2.save_weights('saved_weights/T2_weights')\n",
    "T_3.save_weights('saved_weights/T3_weights')"
   ]
  },
  {
   "cell_type": "code",
   "execution_count": 44,
   "id": "e714234d",
   "metadata": {},
   "outputs": [],
   "source": [
    "# load weights if desired\n",
    "\n",
    "#T_1 = translator_1()\n",
    "#T_1.load_weights('saved_weights/T1_weights')\n",
    "\n",
    "#T_2 = translator_1()\n",
    "#T_2.load_weights('saved_weights/T2_weights')\n",
    "\n",
    "#T_3 = translator_1()\n",
    "#T_3.load_weights('saved_weights/T3_weights')"
   ]
  },
  {
   "cell_type": "markdown",
   "id": "7fec41df",
   "metadata": {},
   "source": [
    "### Using the translators"
   ]
  },
  {
   "cell_type": "code",
   "execution_count": 45,
   "id": "3a46e15a",
   "metadata": {},
   "outputs": [],
   "source": [
    "\n",
    "def translate(models, strings):\n",
    "    translations = []\n",
    "    for T in models:\n",
    "        sentences = []\n",
    "        for eng_string in strings:\n",
    "            eng_string = preprocess_sentence(eng_string)\n",
    "            eng_string = \"<start> \" + eng_string + \" <end>\"\n",
    "            eng_string = toker_eng.texts_to_sequences([eng_string])\n",
    "            eng_string = np.array(tf.keras.preprocessing.sequence.pad_sequences(eng_string, padding = 'post', maxlen = eng_input_length))\n",
    "            eng_string = tf.convert_to_tensor(np.array(eng_string, dtype = 'int32'))\n",
    "            word_string = [1]\n",
    "            word_string = tf.keras.preprocessing.sequence.pad_sequences([word_string], padding = 'post', maxlen = fra_input_length)\n",
    "            #print(eng_string)\n",
    "            #print(word_string)\n",
    "            for i in range(fra_input_length - 1):\n",
    "                input_string = tf.convert_to_tensor(np.array(word_string), dtype = 'int32')\n",
    "                #print(input_string)\n",
    "                output = T([eng_string, input_string])\n",
    "                #print(len(output[0]))\n",
    "                #print(toker_fra.sequences_to_texts([[np.argmax(output[0][i])]]))\n",
    "                #print(output[0][i])\n",
    "                #print(np.argmax(output[0][i]))\n",
    "                word_string[0][i+1] = np.argmax(output[0][i])\n",
    "                #print(toker_fra.sequences_to_texts([[np.argmax(output[0][i])]]))\n",
    "                if np.argmax(output[0][i]) == end_index:\n",
    "                             break\n",
    "            new_sentence = ' '.join(toker_fra.sequences_to_texts(word_string)[0].split()[1:-1])\n",
    "            sentences.append(new_sentence) \n",
    "        translations.append(sentences)    \n",
    "    return translations \n",
    "    \n"
   ]
  },
  {
   "cell_type": "markdown",
   "id": "e14d0f44",
   "metadata": {},
   "source": [
    "#### Translating some simple sentences"
   ]
  },
  {
   "cell_type": "code",
   "execution_count": 46,
   "id": "0da38ea1",
   "metadata": {},
   "outputs": [
    {
     "name": "stdout",
     "output_type": "stream",
     "text": [
      "T1\n",
      "Original: I am very busy.\n",
      "Translation: je suis tres occupe .\n",
      "\n",
      "Original: The dog has a ball.\n",
      "Translation: le chien a une pomme .\n",
      "\n",
      "Original: Tom goes into the city.\n",
      "Translation: tom se precipita en ville .\n",
      "\n",
      "Original: I like to eat apples!\n",
      "Translation: j'aime manger des pommes .\n",
      "\n",
      "Original: In the city the men wore black suits and blue ties.\n",
      "Translation: la ville de la population entre les dents et les refugies sans fer .\n",
      "\n",
      "\n",
      "T2\n",
      "Original: I am very busy.\n",
      "Translation: j'adore\n",
      "\n",
      "Original: The dog has a ball.\n",
      "Translation: l'equipe\n",
      "\n",
      "Original: Tom goes into the city.\n",
      "Translation: j'adore\n",
      "\n",
      "Original: I like to eat apples!\n",
      "Translation: j'adore\n",
      "\n",
      "Original: In the city the men wore black suits and blue ties.\n",
      "Translation: devenir\n",
      "\n",
      "\n",
      "T3\n",
      "Original: I am very busy.\n",
      "Translation: je suis tres occupe .\n",
      "\n",
      "Original: The dog has a ball.\n",
      "Translation: le chien a une balle .\n",
      "\n",
      "Original: Tom goes into the city.\n",
      "Translation: tom va dans le bureau .\n",
      "\n",
      "Original: I like to eat apples!\n",
      "Translation: j'aimerais manger de gateau !\n",
      "\n",
      "Original: In the city the men wore black suits and blue ties.\n",
      "Translation: en amerique , la couleur de la viande de la viande de la couleur et les livres .\n",
      "\n",
      "\n"
     ]
    }
   ],
   "source": [
    "simple_sentences = ['I am very busy.', \n",
    "                    'The dog has a ball.', \n",
    "                    'Tom goes into the city.', \n",
    "                    'I like to eat apples!', \n",
    "                    'In the city the men wore black suits and blue ties.']\n",
    "translations = translate([T_1,T_2,T_3], simple_sentences)\n",
    "\n",
    "for i in range(3):\n",
    "    print('T{}'.format(i + 1))\n",
    "    for j in range(len(simple_sentences)):\n",
    "        print('Original: {}'.format(simple_sentences[j]))\n",
    "        print('Translation: {}'.format(translations[i][j]))\n",
    "        print('')\n",
    "    print('')"
   ]
  },
  {
   "cell_type": "markdown",
   "id": "d0b8917b",
   "metadata": {},
   "source": [
    "#### Translating some random sentences from the corpus"
   ]
  },
  {
   "cell_type": "code",
   "execution_count": 47,
   "id": "d591290c",
   "metadata": {},
   "outputs": [],
   "source": [
    "indices = np.random.randint(0, len(eng) -1, 5)\n",
    "#print(indices)\n",
    "padded_eng_sample = np.array(padded_eng_tokens)[indices]\n",
    "#print(eng_sample)\n",
    "fra_sample = np.array(fra)[indices]\n",
    "#print(fra_sample)\n",
    "fra_sample_tokens = toker_fra.texts_to_sequences(fra_sample)\n",
    "#print(ger_sample_tokens)\n",
    "padded_fra_sample = np.array(tf.keras.preprocessing.sequence.pad_sequences(fra_sample_tokens, padding = 'post'))\n",
    "#print(padded_ger_sample)\n",
    "\n",
    "sample_dataset = tf.data.Dataset.from_tensor_slices((padded_eng_sample, padded_fra_sample))\n",
    "\n",
    "\n",
    "sample_dataset = sample_dataset.batch(1) # to play nicely with the EndEmbedding function"
   ]
  },
  {
   "cell_type": "code",
   "execution_count": 48,
   "id": "cfb1e881",
   "metadata": {},
   "outputs": [
    {
     "name": "stdout",
     "output_type": "stream",
     "text": [
      "T1\n",
      "Original: can you afford it ?\n",
      "Reference Translation: en as tu les moyens ?\n",
      "Machine translation: pouvez vous nous le prevenir ?\n",
      "\n",
      "Original: i was born there .\n",
      "Reference Translation: j'y suis ne .\n",
      "Machine translation: je suis nee .\n",
      "\n",
      "Original: a committee is a group of people who individually can do nothing , but who , as a group , can meet and decide that nothing can be done .\n",
      "Reference Translation: un comite est un groupe de gens qui ne peuvent rien faire individuellement mais qui peuvent tenir des reunions en tant que groupe et parvenir a la decision qu'on ne peut rien faire .\n",
      "Machine translation: une nouvelle de nouveau de nouveau qui sont un peu qui ne peut rien faire , mais nous avons des choses qui ne peuvent pas faire des gens , mais on peut faire ca .\n",
      "\n",
      "Original: the band played a march .\n",
      "Reference Translation: la fanfare a joue une marche .\n",
      "Machine translation: le comite a saute un jour .\n",
      "\n",
      "Original: wait a little longer .\n",
      "Reference Translation: attendez encore un peu !\n",
      "Machine translation: attends encore un peu !\n",
      "\n",
      "\n",
      "T2\n",
      "Original: can you afford it ?\n",
      "Reference Translation: en as tu les moyens ?\n",
      "Machine translation: j'adore\n",
      "\n",
      "Original: i was born there .\n",
      "Reference Translation: j'y suis ne .\n",
      "Machine translation: j'adore\n",
      "\n",
      "Original: a committee is a group of people who individually can do nothing , but who , as a group , can meet and decide that nothing can be done .\n",
      "Reference Translation: un comite est un groupe de gens qui ne peuvent rien faire individuellement mais qui peuvent tenir des reunions en tant que groupe et parvenir a la decision qu'on ne peut rien faire .\n",
      "Machine translation: recherches\n",
      "\n",
      "Original: the band played a march .\n",
      "Reference Translation: la fanfare a joue une marche .\n",
      "Machine translation: excellent\n",
      "\n",
      "Original: wait a little longer .\n",
      "Reference Translation: attendez encore un peu !\n",
      "Machine translation: sortez\n",
      "\n",
      "\n",
      "T3\n",
      "Original: can you afford it ?\n",
      "Reference Translation: en as tu les moyens ?\n",
      "Machine translation: pouvez vous vous le occuper ?\n",
      "\n",
      "Original: i was born there .\n",
      "Reference Translation: j'y suis ne .\n",
      "Machine translation: j'y suis ne .\n",
      "\n",
      "Original: a committee is a group of people who individually can do nothing , but who , as a group , can meet and decide that nothing can be done .\n",
      "Reference Translation: un comite est un groupe de gens qui ne peuvent rien faire individuellement mais qui peuvent tenir des reunions en tant que groupe et parvenir a la decision qu'on ne peut rien faire .\n",
      "Machine translation: un groupe est un locuteur natif qui peut etre individuellement en difference et peuvent etre individuellement entre les gens qui peuvent voler , mais nous ne peuvent pas changer .\n",
      "\n",
      "Original: the band played a march .\n",
      "Reference Translation: la fanfare a joue une marche .\n",
      "Machine translation: le chien a mange une boisson .\n",
      "\n",
      "Original: wait a little longer .\n",
      "Reference Translation: attendez encore un peu !\n",
      "Machine translation: attends un peu .\n",
      "\n",
      "\n"
     ]
    }
   ],
   "source": [
    "translations = translate([T_1,T_2,T_3], eng_before_tokens[indices])\n",
    "\n",
    "for i in range(3):\n",
    "    print('T{}'.format(i+1))\n",
    "    for j in range(len(indices)):\n",
    "        print('Original: {}'.format(eng_before_tokens[indices][j]))\n",
    "        print('Reference Translation: {}'.format(fra_before_tokens[indices][j]))\n",
    "        print('Machine translation: {}'.format(translations[i][j]))\n",
    "        print('')\n",
    "    print('')\n",
    "\n",
    "   "
   ]
  },
  {
   "cell_type": "markdown",
   "id": "f177ebc1",
   "metadata": {},
   "source": [
    "From the tests above, it seems that T1 does fairly well on very simple sentences, with T3 similar, though possibly somewhat worse. Both seem to fail for things more than a few words long, though the results seem to be at least vaguely related to the original. T2 on the other hand is terrible. This may be surprising, as T2 recorded significantly lower validation loss during training. What is happening? My theory is that the fact that T2 passes on the hidden and cell states of the French LSTM layers, rather than just using the state outputs of the English LSTM sequence, causes the machine to pay much more attention to the French sentence it is given than the English sentence. This works during training and validation because it is given both the English and the French reference translation. However, when the machine does translations 'in the wild' the French sentence it starts with is just the \\<start\\> token."
   ]
  },
  {
   "cell_type": "markdown",
   "id": "f1a8f8de",
   "metadata": {},
   "source": [
    "#### Calculating BLEU scores.\n",
    "Finally, here are the BLEU scores for each translator calculated using the testing data set aside earlier. The results bear out the impressions from the previous tests."
   ]
  },
  {
   "cell_type": "code",
   "execution_count": 49,
   "id": "99cae5ec",
   "metadata": {},
   "outputs": [],
   "source": [
    "eng_test = [' '.join(s.split()[1:-1]) for s in toker_eng.sequences_to_texts(X_test)]\n",
    "fra_test = [' '.join(s.split()[1:-1]) for s in toker_fra.sequences_to_texts(y_test)]\n",
    "\n",
    "# For BLEU score each sentence is matched to an array of reference translations (each of which is an array of words)\n",
    "# Here we only have one reference per sentence, but it must be in its own array\n",
    "references = [[s.split()] for s in fra_test] \n",
    "\n",
    "translations = translate([T_1,T_2,T_3], eng_test)"
   ]
  },
  {
   "cell_type": "code",
   "execution_count": 50,
   "id": "7fc84594",
   "metadata": {},
   "outputs": [],
   "source": [
    "translations_1 = [s.split() for s in translations[0]]\n",
    "translations_2 = [s.split() for s in translations[1]]\n",
    "translations_3 = [s.split() for s in translations[2]]"
   ]
  },
  {
   "cell_type": "code",
   "execution_count": 52,
   "id": "6c4f080a",
   "metadata": {},
   "outputs": [
    {
     "name": "stdout",
     "output_type": "stream",
     "text": [
      "BLEU score T1:  0.24915965127172907\n",
      "BLEU score T2:  6.880856657558399e-235\n",
      "BLEU score T3:  0.21128536657033686\n"
     ]
    }
   ],
   "source": [
    "from nltk.translate.bleu_score import corpus_bleu\n",
    "score_1 = corpus_bleu(references, translations_1)\n",
    "print('BLEU score T1: ', score_1)\n",
    "\n",
    "score_2 = corpus_bleu(references, translations_2)\n",
    "print('BLEU score T2: ',score_2)\n",
    "\n",
    "score_3 = corpus_bleu(references, translations_3)\n",
    "print('BLEU score T3: ',score_3)"
   ]
  },
  {
   "cell_type": "code",
   "execution_count": null,
   "id": "3beab775",
   "metadata": {},
   "outputs": [],
   "source": []
  }
 ],
 "metadata": {
  "kernelspec": {
   "display_name": "Python 3",
   "language": "python",
   "name": "python3"
  },
  "language_info": {
   "codemirror_mode": {
    "name": "ipython",
    "version": 3
   },
   "file_extension": ".py",
   "mimetype": "text/x-python",
   "name": "python",
   "nbconvert_exporter": "python",
   "pygments_lexer": "ipython3",
   "version": "3.6.13"
  }
 },
 "nbformat": 4,
 "nbformat_minor": 5
}
